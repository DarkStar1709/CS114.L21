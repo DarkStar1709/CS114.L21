{
  "nbformat": 4,
  "nbformat_minor": 0,
  "metadata": {
    "colab": {
      "name": "colab3.ipynb",
      "provenance": [],
      "collapsed_sections": [],
      "include_colab_link": true
    },
    "kernelspec": {
      "name": "python3",
      "display_name": "Python 3"
    },
    "language_info": {
      "name": "python"
    }
  },
  "cells": [
    {
      "cell_type": "markdown",
      "metadata": {
        "id": "view-in-github",
        "colab_type": "text"
      },
      "source": [
        "<a href=\"https://colab.research.google.com/github/DarkStar1709/CS114.L21/blob/main/colab3.ipynb\" target=\"_parent\"><img src=\"https://colab.research.google.com/assets/colab-badge.svg\" alt=\"Open In Colab\"/></a>"
      ]
    },
    {
      "cell_type": "code",
      "metadata": {
        "colab": {
          "base_uri": "https://localhost:8080/"
        },
        "id": "K6hz4deEywG1",
        "outputId": "655c9aab-a687-4f59-8bda-5686cd558792"
      },
      "source": [
        "%cd /content/drive/MyDrive/CS114/"
      ],
      "execution_count": null,
      "outputs": [
        {
          "output_type": "stream",
          "text": [
            "/content/drive/MyDrive/CS114\n"
          ],
          "name": "stdout"
        }
      ]
    },
    {
      "cell_type": "code",
      "metadata": {
        "id": "ZuEXp1zRzqhV"
      },
      "source": [
        "import pandas as pd\n",
        "import numpy as np\n",
        "import matplotlib.pyplot as plt\n",
        "%matplotlib inline\n",
        "import seaborn as sns"
      ],
      "execution_count": null,
      "outputs": []
    },
    {
      "cell_type": "code",
      "metadata": {
        "id": "-Ti2egM1zuK5"
      },
      "source": [
        "wecode = pd.read_csv('wecode.csv') \n",
        "# Lọc ra những dũ liệu cần thiết\n",
        "wecode = wecode[['user_id', 'assignment_id', 'problem_id', 'is_final', 'status', 'pre_score', 'coefficient', 'id']]\n",
        "score = pd.read_csv('score_training.csv')\n",
        "# Lọc ra điểm ck để vẽ scatter plot\n",
        "score = score[['id','CK']]\n",
        "score = score.replace(r'^\\s*$', np.nan, regex=True)\n",
        "score = score.astype({'id' : int,'CK': float})"
      ],
      "execution_count": null,
      "outputs": []
    },
    {
      "cell_type": "code",
      "metadata": {
        "colab": {
          "base_uri": "https://localhost:8080/",
          "height": 423
        },
        "id": "ukOUjG-mkEC4",
        "outputId": "9389dbdb-f8fc-4c62-b310-fc03bb8d120b"
      },
      "source": [
        "wecode"
      ],
      "execution_count": null,
      "outputs": [
        {
          "output_type": "execute_result",
          "data": {
            "text/html": [
              "<div>\n",
              "<style scoped>\n",
              "    .dataframe tbody tr th:only-of-type {\n",
              "        vertical-align: middle;\n",
              "    }\n",
              "\n",
              "    .dataframe tbody tr th {\n",
              "        vertical-align: top;\n",
              "    }\n",
              "\n",
              "    .dataframe thead th {\n",
              "        text-align: right;\n",
              "    }\n",
              "</style>\n",
              "<table border=\"1\" class=\"dataframe\">\n",
              "  <thead>\n",
              "    <tr style=\"text-align: right;\">\n",
              "      <th></th>\n",
              "      <th>user_id</th>\n",
              "      <th>assignment_id</th>\n",
              "      <th>problem_id</th>\n",
              "      <th>is_final</th>\n",
              "      <th>status</th>\n",
              "      <th>pre_score</th>\n",
              "      <th>coefficient</th>\n",
              "      <th>id</th>\n",
              "    </tr>\n",
              "  </thead>\n",
              "  <tbody>\n",
              "    <tr>\n",
              "      <th>0</th>\n",
              "      <td>4</td>\n",
              "      <td>0</td>\n",
              "      <td>3</td>\n",
              "      <td>1</td>\n",
              "      <td>SCORE</td>\n",
              "      <td>10000</td>\n",
              "      <td>100</td>\n",
              "      <td>4</td>\n",
              "    </tr>\n",
              "    <tr>\n",
              "      <th>1</th>\n",
              "      <td>4</td>\n",
              "      <td>0</td>\n",
              "      <td>4</td>\n",
              "      <td>1</td>\n",
              "      <td>SCORE</td>\n",
              "      <td>10000</td>\n",
              "      <td>100</td>\n",
              "      <td>5</td>\n",
              "    </tr>\n",
              "    <tr>\n",
              "      <th>2</th>\n",
              "      <td>4</td>\n",
              "      <td>0</td>\n",
              "      <td>5</td>\n",
              "      <td>0</td>\n",
              "      <td>Compilation Error</td>\n",
              "      <td>0</td>\n",
              "      <td>100</td>\n",
              "      <td>6</td>\n",
              "    </tr>\n",
              "    <tr>\n",
              "      <th>3</th>\n",
              "      <td>4</td>\n",
              "      <td>0</td>\n",
              "      <td>5</td>\n",
              "      <td>0</td>\n",
              "      <td>Compilation Error</td>\n",
              "      <td>0</td>\n",
              "      <td>100</td>\n",
              "      <td>7</td>\n",
              "    </tr>\n",
              "    <tr>\n",
              "      <th>4</th>\n",
              "      <td>4</td>\n",
              "      <td>0</td>\n",
              "      <td>5</td>\n",
              "      <td>0</td>\n",
              "      <td>Compilation Error</td>\n",
              "      <td>0</td>\n",
              "      <td>100</td>\n",
              "      <td>8</td>\n",
              "    </tr>\n",
              "    <tr>\n",
              "      <th>...</th>\n",
              "      <td>...</td>\n",
              "      <td>...</td>\n",
              "      <td>...</td>\n",
              "      <td>...</td>\n",
              "      <td>...</td>\n",
              "      <td>...</td>\n",
              "      <td>...</td>\n",
              "      <td>...</td>\n",
              "    </tr>\n",
              "    <tr>\n",
              "      <th>264601</th>\n",
              "      <td>1796</td>\n",
              "      <td>0</td>\n",
              "      <td>25</td>\n",
              "      <td>0</td>\n",
              "      <td>SCORE</td>\n",
              "      <td>0</td>\n",
              "      <td>100</td>\n",
              "      <td>266667</td>\n",
              "    </tr>\n",
              "    <tr>\n",
              "      <th>264602</th>\n",
              "      <td>1796</td>\n",
              "      <td>0</td>\n",
              "      <td>25</td>\n",
              "      <td>0</td>\n",
              "      <td>Compilation Error</td>\n",
              "      <td>0</td>\n",
              "      <td>100</td>\n",
              "      <td>266668</td>\n",
              "    </tr>\n",
              "    <tr>\n",
              "      <th>264603</th>\n",
              "      <td>1796</td>\n",
              "      <td>0</td>\n",
              "      <td>25</td>\n",
              "      <td>1</td>\n",
              "      <td>SCORE</td>\n",
              "      <td>10000</td>\n",
              "      <td>100</td>\n",
              "      <td>266669</td>\n",
              "    </tr>\n",
              "    <tr>\n",
              "      <th>264604</th>\n",
              "      <td>255</td>\n",
              "      <td>0</td>\n",
              "      <td>150</td>\n",
              "      <td>1</td>\n",
              "      <td>SCORE</td>\n",
              "      <td>6250</td>\n",
              "      <td>100</td>\n",
              "      <td>266670</td>\n",
              "    </tr>\n",
              "    <tr>\n",
              "      <th>264605</th>\n",
              "      <td>1568</td>\n",
              "      <td>21</td>\n",
              "      <td>24</td>\n",
              "      <td>0</td>\n",
              "      <td>SCORE</td>\n",
              "      <td>10000</td>\n",
              "      <td>100</td>\n",
              "      <td>266671</td>\n",
              "    </tr>\n",
              "  </tbody>\n",
              "</table>\n",
              "<p>264606 rows × 8 columns</p>\n",
              "</div>"
            ],
            "text/plain": [
              "        user_id  assignment_id  problem_id  ...  pre_score coefficient      id\n",
              "0             4              0           3  ...      10000         100       4\n",
              "1             4              0           4  ...      10000         100       5\n",
              "2             4              0           5  ...          0         100       6\n",
              "3             4              0           5  ...          0         100       7\n",
              "4             4              0           5  ...          0         100       8\n",
              "...         ...            ...         ...  ...        ...         ...     ...\n",
              "264601     1796              0          25  ...          0         100  266667\n",
              "264602     1796              0          25  ...          0         100  266668\n",
              "264603     1796              0          25  ...      10000         100  266669\n",
              "264604      255              0         150  ...       6250         100  266670\n",
              "264605     1568             21          24  ...      10000         100  266671\n",
              "\n",
              "[264606 rows x 8 columns]"
            ]
          },
          "metadata": {
            "tags": []
          },
          "execution_count": 4
        }
      ]
    },
    {
      "cell_type": "code",
      "metadata": {
        "colab": {
          "base_uri": "https://localhost:8080/",
          "height": 423
        },
        "id": "ocb1aZPikTHK",
        "outputId": "e0be99bb-95d0-49dc-9308-69b703eb0874"
      },
      "source": [
        "score = score.rename(columns = {\"id\":\"user_id\"})\n",
        "score = score[['user_id','CK']]\n",
        "score = score.dropna()\n",
        "score"
      ],
      "execution_count": null,
      "outputs": [
        {
          "output_type": "execute_result",
          "data": {
            "text/html": [
              "<div>\n",
              "<style scoped>\n",
              "    .dataframe tbody tr th:only-of-type {\n",
              "        vertical-align: middle;\n",
              "    }\n",
              "\n",
              "    .dataframe tbody tr th {\n",
              "        vertical-align: top;\n",
              "    }\n",
              "\n",
              "    .dataframe thead th {\n",
              "        text-align: right;\n",
              "    }\n",
              "</style>\n",
              "<table border=\"1\" class=\"dataframe\">\n",
              "  <thead>\n",
              "    <tr style=\"text-align: right;\">\n",
              "      <th></th>\n",
              "      <th>user_id</th>\n",
              "      <th>CK</th>\n",
              "    </tr>\n",
              "  </thead>\n",
              "  <tbody>\n",
              "    <tr>\n",
              "      <th>0</th>\n",
              "      <td>22</td>\n",
              "      <td>8.5</td>\n",
              "    </tr>\n",
              "    <tr>\n",
              "      <th>1</th>\n",
              "      <td>24</td>\n",
              "      <td>9.5</td>\n",
              "    </tr>\n",
              "    <tr>\n",
              "      <th>2</th>\n",
              "      <td>27</td>\n",
              "      <td>10.0</td>\n",
              "    </tr>\n",
              "    <tr>\n",
              "      <th>3</th>\n",
              "      <td>28</td>\n",
              "      <td>9.5</td>\n",
              "    </tr>\n",
              "    <tr>\n",
              "      <th>4</th>\n",
              "      <td>29</td>\n",
              "      <td>8.5</td>\n",
              "    </tr>\n",
              "    <tr>\n",
              "      <th>...</th>\n",
              "      <td>...</td>\n",
              "      <td>...</td>\n",
              "    </tr>\n",
              "    <tr>\n",
              "      <th>970</th>\n",
              "      <td>1857</td>\n",
              "      <td>4.0</td>\n",
              "    </tr>\n",
              "    <tr>\n",
              "      <th>971</th>\n",
              "      <td>1859</td>\n",
              "      <td>1.5</td>\n",
              "    </tr>\n",
              "    <tr>\n",
              "      <th>972</th>\n",
              "      <td>1862</td>\n",
              "      <td>7.5</td>\n",
              "    </tr>\n",
              "    <tr>\n",
              "      <th>973</th>\n",
              "      <td>1865</td>\n",
              "      <td>7.5</td>\n",
              "    </tr>\n",
              "    <tr>\n",
              "      <th>974</th>\n",
              "      <td>1866</td>\n",
              "      <td>5.0</td>\n",
              "    </tr>\n",
              "  </tbody>\n",
              "</table>\n",
              "<p>920 rows × 2 columns</p>\n",
              "</div>"
            ],
            "text/plain": [
              "     user_id    CK\n",
              "0         22   8.5\n",
              "1         24   9.5\n",
              "2         27  10.0\n",
              "3         28   9.5\n",
              "4         29   8.5\n",
              "..       ...   ...\n",
              "970     1857   4.0\n",
              "971     1859   1.5\n",
              "972     1862   7.5\n",
              "973     1865   7.5\n",
              "974     1866   5.0\n",
              "\n",
              "[920 rows x 2 columns]"
            ]
          },
          "metadata": {
            "tags": []
          },
          "execution_count": 5
        }
      ]
    },
    {
      "cell_type": "markdown",
      "metadata": {
        "id": "isHkZ-usTqoj"
      },
      "source": [
        "Các yếu tố ảnh hưởng đến điểm cuối kì:\n",
        "1. Tổng số problem đã solved (is_final = 1 && pre_score=10000) / Tổng số problem có submit\n",
        "2. Tổng số problem đã sumbit / Tổng số submissions \n",
        "3. Số lần submit đúng (pre_score=10000) / tổng số submissions \n",
        "4. Tổng pre_score của các submssion có is_final = 1 \n",
        "5. Trung bình cộng của tỷ lệ: problem đã submit/số lượng problem của mỗi assignments \n",
        "6. Tổng của max pre_score của mỗi problem_id và tổng số submissions\n",
        "7. Trung bình cộng (thời điểm submit cuối cùng - thời điểm submit đầu tiên của mỗi problem)"
      ]
    },
    {
      "cell_type": "markdown",
      "metadata": {
        "id": "xf9tXs9uh3pM"
      },
      "source": [
        "## 1.Tổng số problem đã solved (is_final = 1 && pre_score=10000) / Tổng số problem có submit"
      ]
    },
    {
      "cell_type": "code",
      "metadata": {
        "colab": {
          "base_uri": "https://localhost:8080/",
          "height": 455
        },
        "id": "DC8zmG0w0jZQ",
        "outputId": "a83ce290-1743-4894-f390-e6ec08da13e1"
      },
      "source": [
        "Feature_1 = pd.DataFrame(wecode['user_id'])\n",
        "Feature_1['sum_problem'] = pd.DataFrame(wecode['is_final'])\n",
        "Feature_1['sum_done_problem'] = pd.DataFrame(map(int, (wecode['is_final'] == 1) & (wecode['pre_score'] == 10000)))\n",
        "Feature_1 = Feature_1.groupby(['user_id']).sum()\n",
        "Feature_1['sum_done_problem / sum_problem'] = Feature_1['sum_done_problem'] / Feature_1['sum_problem']\n",
        "Feature_1"
      ],
      "execution_count": null,
      "outputs": [
        {
          "output_type": "execute_result",
          "data": {
            "text/html": [
              "<div>\n",
              "<style scoped>\n",
              "    .dataframe tbody tr th:only-of-type {\n",
              "        vertical-align: middle;\n",
              "    }\n",
              "\n",
              "    .dataframe tbody tr th {\n",
              "        vertical-align: top;\n",
              "    }\n",
              "\n",
              "    .dataframe thead th {\n",
              "        text-align: right;\n",
              "    }\n",
              "</style>\n",
              "<table border=\"1\" class=\"dataframe\">\n",
              "  <thead>\n",
              "    <tr style=\"text-align: right;\">\n",
              "      <th></th>\n",
              "      <th>sum_problem</th>\n",
              "      <th>sum_done_problem</th>\n",
              "      <th>sum_done_problem / sum_problem</th>\n",
              "    </tr>\n",
              "    <tr>\n",
              "      <th>user_id</th>\n",
              "      <th></th>\n",
              "      <th></th>\n",
              "      <th></th>\n",
              "    </tr>\n",
              "  </thead>\n",
              "  <tbody>\n",
              "    <tr>\n",
              "      <th>1</th>\n",
              "      <td>2</td>\n",
              "      <td>1</td>\n",
              "      <td>0.500000</td>\n",
              "    </tr>\n",
              "    <tr>\n",
              "      <th>4</th>\n",
              "      <td>38</td>\n",
              "      <td>37</td>\n",
              "      <td>0.973684</td>\n",
              "    </tr>\n",
              "    <tr>\n",
              "      <th>5</th>\n",
              "      <td>5</td>\n",
              "      <td>3</td>\n",
              "      <td>0.600000</td>\n",
              "    </tr>\n",
              "    <tr>\n",
              "      <th>6</th>\n",
              "      <td>88</td>\n",
              "      <td>85</td>\n",
              "      <td>0.965909</td>\n",
              "    </tr>\n",
              "    <tr>\n",
              "      <th>7</th>\n",
              "      <td>2</td>\n",
              "      <td>0</td>\n",
              "      <td>0.000000</td>\n",
              "    </tr>\n",
              "    <tr>\n",
              "      <th>...</th>\n",
              "      <td>...</td>\n",
              "      <td>...</td>\n",
              "      <td>...</td>\n",
              "    </tr>\n",
              "    <tr>\n",
              "      <th>1860</th>\n",
              "      <td>48</td>\n",
              "      <td>28</td>\n",
              "      <td>0.583333</td>\n",
              "    </tr>\n",
              "    <tr>\n",
              "      <th>1862</th>\n",
              "      <td>6</td>\n",
              "      <td>4</td>\n",
              "      <td>0.666667</td>\n",
              "    </tr>\n",
              "    <tr>\n",
              "      <th>1864</th>\n",
              "      <td>63</td>\n",
              "      <td>28</td>\n",
              "      <td>0.444444</td>\n",
              "    </tr>\n",
              "    <tr>\n",
              "      <th>1865</th>\n",
              "      <td>17</td>\n",
              "      <td>10</td>\n",
              "      <td>0.588235</td>\n",
              "    </tr>\n",
              "    <tr>\n",
              "      <th>1868</th>\n",
              "      <td>27</td>\n",
              "      <td>27</td>\n",
              "      <td>1.000000</td>\n",
              "    </tr>\n",
              "  </tbody>\n",
              "</table>\n",
              "<p>1159 rows × 3 columns</p>\n",
              "</div>"
            ],
            "text/plain": [
              "         sum_problem  sum_done_problem  sum_done_problem / sum_problem\n",
              "user_id                                                               \n",
              "1                  2                 1                        0.500000\n",
              "4                 38                37                        0.973684\n",
              "5                  5                 3                        0.600000\n",
              "6                 88                85                        0.965909\n",
              "7                  2                 0                        0.000000\n",
              "...              ...               ...                             ...\n",
              "1860              48                28                        0.583333\n",
              "1862               6                 4                        0.666667\n",
              "1864              63                28                        0.444444\n",
              "1865              17                10                        0.588235\n",
              "1868              27                27                        1.000000\n",
              "\n",
              "[1159 rows x 3 columns]"
            ]
          },
          "metadata": {
            "tags": []
          },
          "execution_count": 6
        }
      ]
    },
    {
      "cell_type": "code",
      "metadata": {
        "colab": {
          "base_uri": "https://localhost:8080/",
          "height": 423
        },
        "id": "lkTcETLHHUWE",
        "outputId": "3cc2b54a-5295-4f59-d31d-80e0e910694f"
      },
      "source": [
        "data_merge_1 = pd.merge(Feature_1,score,on='user_id',how='outer')\n",
        "data_merge_1 = data_merge_1.dropna()\n",
        "data_merge_1 = data_merge_1.sort_values(by= ['CK'], ascending=False)\n",
        "data_merge_1"
      ],
      "execution_count": null,
      "outputs": [
        {
          "output_type": "execute_result",
          "data": {
            "text/html": [
              "<div>\n",
              "<style scoped>\n",
              "    .dataframe tbody tr th:only-of-type {\n",
              "        vertical-align: middle;\n",
              "    }\n",
              "\n",
              "    .dataframe tbody tr th {\n",
              "        vertical-align: top;\n",
              "    }\n",
              "\n",
              "    .dataframe thead th {\n",
              "        text-align: right;\n",
              "    }\n",
              "</style>\n",
              "<table border=\"1\" class=\"dataframe\">\n",
              "  <thead>\n",
              "    <tr style=\"text-align: right;\">\n",
              "      <th></th>\n",
              "      <th>user_id</th>\n",
              "      <th>sum_problem</th>\n",
              "      <th>sum_done_problem</th>\n",
              "      <th>sum_done_problem / sum_problem</th>\n",
              "      <th>CK</th>\n",
              "    </tr>\n",
              "  </thead>\n",
              "  <tbody>\n",
              "    <tr>\n",
              "      <th>10</th>\n",
              "      <td>27</td>\n",
              "      <td>5.0</td>\n",
              "      <td>3.0</td>\n",
              "      <td>0.600000</td>\n",
              "      <td>10.0</td>\n",
              "    </tr>\n",
              "    <tr>\n",
              "      <th>174</th>\n",
              "      <td>343</td>\n",
              "      <td>191.0</td>\n",
              "      <td>166.0</td>\n",
              "      <td>0.869110</td>\n",
              "      <td>10.0</td>\n",
              "    </tr>\n",
              "    <tr>\n",
              "      <th>9</th>\n",
              "      <td>24</td>\n",
              "      <td>77.0</td>\n",
              "      <td>72.0</td>\n",
              "      <td>0.935065</td>\n",
              "      <td>9.5</td>\n",
              "    </tr>\n",
              "    <tr>\n",
              "      <th>933</th>\n",
              "      <td>1570</td>\n",
              "      <td>182.0</td>\n",
              "      <td>176.0</td>\n",
              "      <td>0.967033</td>\n",
              "      <td>9.5</td>\n",
              "    </tr>\n",
              "    <tr>\n",
              "      <th>987</th>\n",
              "      <td>1639</td>\n",
              "      <td>177.0</td>\n",
              "      <td>173.0</td>\n",
              "      <td>0.977401</td>\n",
              "      <td>9.5</td>\n",
              "    </tr>\n",
              "    <tr>\n",
              "      <th>...</th>\n",
              "      <td>...</td>\n",
              "      <td>...</td>\n",
              "      <td>...</td>\n",
              "      <td>...</td>\n",
              "      <td>...</td>\n",
              "    </tr>\n",
              "    <tr>\n",
              "      <th>37</th>\n",
              "      <td>76</td>\n",
              "      <td>29.0</td>\n",
              "      <td>28.0</td>\n",
              "      <td>0.965517</td>\n",
              "      <td>0.0</td>\n",
              "    </tr>\n",
              "    <tr>\n",
              "      <th>969</th>\n",
              "      <td>1619</td>\n",
              "      <td>114.0</td>\n",
              "      <td>107.0</td>\n",
              "      <td>0.938596</td>\n",
              "      <td>0.0</td>\n",
              "    </tr>\n",
              "    <tr>\n",
              "      <th>563</th>\n",
              "      <td>960</td>\n",
              "      <td>87.0</td>\n",
              "      <td>83.0</td>\n",
              "      <td>0.954023</td>\n",
              "      <td>0.0</td>\n",
              "    </tr>\n",
              "    <tr>\n",
              "      <th>561</th>\n",
              "      <td>956</td>\n",
              "      <td>63.0</td>\n",
              "      <td>56.0</td>\n",
              "      <td>0.888889</td>\n",
              "      <td>0.0</td>\n",
              "    </tr>\n",
              "    <tr>\n",
              "      <th>124</th>\n",
              "      <td>247</td>\n",
              "      <td>8.0</td>\n",
              "      <td>6.0</td>\n",
              "      <td>0.750000</td>\n",
              "      <td>0.0</td>\n",
              "    </tr>\n",
              "  </tbody>\n",
              "</table>\n",
              "<p>805 rows × 5 columns</p>\n",
              "</div>"
            ],
            "text/plain": [
              "     user_id  sum_problem  ...  sum_done_problem / sum_problem    CK\n",
              "10        27          5.0  ...                        0.600000  10.0\n",
              "174      343        191.0  ...                        0.869110  10.0\n",
              "9         24         77.0  ...                        0.935065   9.5\n",
              "933     1570        182.0  ...                        0.967033   9.5\n",
              "987     1639        177.0  ...                        0.977401   9.5\n",
              "..       ...          ...  ...                             ...   ...\n",
              "37        76         29.0  ...                        0.965517   0.0\n",
              "969     1619        114.0  ...                        0.938596   0.0\n",
              "563      960         87.0  ...                        0.954023   0.0\n",
              "561      956         63.0  ...                        0.888889   0.0\n",
              "124      247          8.0  ...                        0.750000   0.0\n",
              "\n",
              "[805 rows x 5 columns]"
            ]
          },
          "metadata": {
            "tags": []
          },
          "execution_count": 7
        }
      ]
    },
    {
      "cell_type": "code",
      "metadata": {
        "colab": {
          "base_uri": "https://localhost:8080/",
          "height": 297
        },
        "id": "tmODze8IGknk",
        "outputId": "be2282af-c561-44e1-ce09-3836972f77f8"
      },
      "source": [
        "sns.scatterplot(x=\"sum_done_problem / sum_problem\", y=\"CK\", data = data_merge_1)"
      ],
      "execution_count": null,
      "outputs": [
        {
          "output_type": "execute_result",
          "data": {
            "text/plain": [
              "<matplotlib.axes._subplots.AxesSubplot at 0x7f4abc4e3050>"
            ]
          },
          "metadata": {
            "tags": []
          },
          "execution_count": 8
        },
        {
          "output_type": "display_data",
          "data": {
            "image/png": "[encoded data removed]",
            "text/plain": [
              "<Figure size 432x288 with 1 Axes>"
            ]
          },
          "metadata": {
            "tags": [],
            "needs_background": "light"
          }
        }
      ]
    },
    {
      "cell_type": "markdown",
      "metadata": {
        "id": "NZpWwVh3IPp0"
      },
      "source": [
        "## 2.Tổng số problem đã sumbit / Tổng số submissions"
      ]
    },
    {
      "cell_type": "code",
      "metadata": {
        "colab": {
          "base_uri": "https://localhost:8080/",
          "height": 455
        },
        "id": "LFug5hx0j0O7",
        "outputId": "3be9b603-6865-49df-b979-6a3d5b0862f9"
      },
      "source": [
        "Feature_2 = pd.DataFrame(wecode['user_id'])\n",
        "Feature_2['sum_problem'] = pd.DataFrame(wecode['is_final'])\n",
        "Feature_2 = Feature_2.groupby(['user_id']).sum()\n",
        "sum_submissions = wecode[[\"user_id\", \"id\"]].groupby(\"user_id\").count()\n",
        "Feature_2 = pd.merge(Feature_2,sum_submissions,on='user_id',how='outer')\n",
        "Feature_2 = Feature_2.rename(columns = {\"id\":\"sum_submissions\"})\n",
        "Feature_2['sum_problem / sum_submissions'] = Feature_2['sum_problem'] / Feature_2['sum_submissions']\n",
        "Feature_2"
      ],
      "execution_count": null,
      "outputs": [
        {
          "output_type": "execute_result",
          "data": {
            "text/html": [
              "<div>\n",
              "<style scoped>\n",
              "    .dataframe tbody tr th:only-of-type {\n",
              "        vertical-align: middle;\n",
              "    }\n",
              "\n",
              "    .dataframe tbody tr th {\n",
              "        vertical-align: top;\n",
              "    }\n",
              "\n",
              "    .dataframe thead th {\n",
              "        text-align: right;\n",
              "    }\n",
              "</style>\n",
              "<table border=\"1\" class=\"dataframe\">\n",
              "  <thead>\n",
              "    <tr style=\"text-align: right;\">\n",
              "      <th></th>\n",
              "      <th>sum_problem</th>\n",
              "      <th>sum_submissions</th>\n",
              "      <th>sum_problem / sum_submissions</th>\n",
              "    </tr>\n",
              "    <tr>\n",
              "      <th>user_id</th>\n",
              "      <th></th>\n",
              "      <th></th>\n",
              "      <th></th>\n",
              "    </tr>\n",
              "  </thead>\n",
              "  <tbody>\n",
              "    <tr>\n",
              "      <th>1</th>\n",
              "      <td>2</td>\n",
              "      <td>2</td>\n",
              "      <td>1.000000</td>\n",
              "    </tr>\n",
              "    <tr>\n",
              "      <th>4</th>\n",
              "      <td>38</td>\n",
              "      <td>54</td>\n",
              "      <td>0.703704</td>\n",
              "    </tr>\n",
              "    <tr>\n",
              "      <th>5</th>\n",
              "      <td>5</td>\n",
              "      <td>6</td>\n",
              "      <td>0.833333</td>\n",
              "    </tr>\n",
              "    <tr>\n",
              "      <th>6</th>\n",
              "      <td>88</td>\n",
              "      <td>130</td>\n",
              "      <td>0.676923</td>\n",
              "    </tr>\n",
              "    <tr>\n",
              "      <th>7</th>\n",
              "      <td>2</td>\n",
              "      <td>5</td>\n",
              "      <td>0.400000</td>\n",
              "    </tr>\n",
              "    <tr>\n",
              "      <th>...</th>\n",
              "      <td>...</td>\n",
              "      <td>...</td>\n",
              "      <td>...</td>\n",
              "    </tr>\n",
              "    <tr>\n",
              "      <th>1860</th>\n",
              "      <td>48</td>\n",
              "      <td>76</td>\n",
              "      <td>0.631579</td>\n",
              "    </tr>\n",
              "    <tr>\n",
              "      <th>1862</th>\n",
              "      <td>6</td>\n",
              "      <td>12</td>\n",
              "      <td>0.500000</td>\n",
              "    </tr>\n",
              "    <tr>\n",
              "      <th>1864</th>\n",
              "      <td>63</td>\n",
              "      <td>187</td>\n",
              "      <td>0.336898</td>\n",
              "    </tr>\n",
              "    <tr>\n",
              "      <th>1865</th>\n",
              "      <td>17</td>\n",
              "      <td>99</td>\n",
              "      <td>0.171717</td>\n",
              "    </tr>\n",
              "    <tr>\n",
              "      <th>1868</th>\n",
              "      <td>27</td>\n",
              "      <td>47</td>\n",
              "      <td>0.574468</td>\n",
              "    </tr>\n",
              "  </tbody>\n",
              "</table>\n",
              "<p>1159 rows × 3 columns</p>\n",
              "</div>"
            ],
            "text/plain": [
              "         sum_problem  sum_submissions  sum_problem / sum_submissions\n",
              "user_id                                                             \n",
              "1                  2                2                       1.000000\n",
              "4                 38               54                       0.703704\n",
              "5                  5                6                       0.833333\n",
              "6                 88              130                       0.676923\n",
              "7                  2                5                       0.400000\n",
              "...              ...              ...                            ...\n",
              "1860              48               76                       0.631579\n",
              "1862               6               12                       0.500000\n",
              "1864              63              187                       0.336898\n",
              "1865              17               99                       0.171717\n",
              "1868              27               47                       0.574468\n",
              "\n",
              "[1159 rows x 3 columns]"
            ]
          },
          "metadata": {
            "tags": []
          },
          "execution_count": 9
        }
      ]
    },
    {
      "cell_type": "code",
      "metadata": {
        "colab": {
          "base_uri": "https://localhost:8080/",
          "height": 423
        },
        "id": "cyF8naecIOjl",
        "outputId": "259cefbc-9d51-49ff-8061-ba3fbae1e24a"
      },
      "source": [
        "data_merge_2 = pd.merge(Feature_2,score,on='user_id',how='outer')\n",
        "data_merge_2 = data_merge_2.dropna()\n",
        "data_merge_2 = data_merge_2.sort_values(by= ['CK'], ascending=False)\n",
        "data_merge_2"
      ],
      "execution_count": null,
      "outputs": [
        {
          "output_type": "execute_result",
          "data": {
            "text/html": [
              "<div>\n",
              "<style scoped>\n",
              "    .dataframe tbody tr th:only-of-type {\n",
              "        vertical-align: middle;\n",
              "    }\n",
              "\n",
              "    .dataframe tbody tr th {\n",
              "        vertical-align: top;\n",
              "    }\n",
              "\n",
              "    .dataframe thead th {\n",
              "        text-align: right;\n",
              "    }\n",
              "</style>\n",
              "<table border=\"1\" class=\"dataframe\">\n",
              "  <thead>\n",
              "    <tr style=\"text-align: right;\">\n",
              "      <th></th>\n",
              "      <th>user_id</th>\n",
              "      <th>sum_problem</th>\n",
              "      <th>sum_submissions</th>\n",
              "      <th>sum_problem / sum_submissions</th>\n",
              "      <th>CK</th>\n",
              "    </tr>\n",
              "  </thead>\n",
              "  <tbody>\n",
              "    <tr>\n",
              "      <th>10</th>\n",
              "      <td>27</td>\n",
              "      <td>5.0</td>\n",
              "      <td>13.0</td>\n",
              "      <td>0.384615</td>\n",
              "      <td>10.0</td>\n",
              "    </tr>\n",
              "    <tr>\n",
              "      <th>174</th>\n",
              "      <td>343</td>\n",
              "      <td>191.0</td>\n",
              "      <td>345.0</td>\n",
              "      <td>0.553623</td>\n",
              "      <td>10.0</td>\n",
              "    </tr>\n",
              "    <tr>\n",
              "      <th>9</th>\n",
              "      <td>24</td>\n",
              "      <td>77.0</td>\n",
              "      <td>164.0</td>\n",
              "      <td>0.469512</td>\n",
              "      <td>9.5</td>\n",
              "    </tr>\n",
              "    <tr>\n",
              "      <th>765</th>\n",
              "      <td>1316</td>\n",
              "      <td>47.0</td>\n",
              "      <td>122.0</td>\n",
              "      <td>0.385246</td>\n",
              "      <td>9.5</td>\n",
              "    </tr>\n",
              "    <tr>\n",
              "      <th>64</th>\n",
              "      <td>126</td>\n",
              "      <td>110.0</td>\n",
              "      <td>383.0</td>\n",
              "      <td>0.287206</td>\n",
              "      <td>9.5</td>\n",
              "    </tr>\n",
              "    <tr>\n",
              "      <th>...</th>\n",
              "      <td>...</td>\n",
              "      <td>...</td>\n",
              "      <td>...</td>\n",
              "      <td>...</td>\n",
              "      <td>...</td>\n",
              "    </tr>\n",
              "    <tr>\n",
              "      <th>969</th>\n",
              "      <td>1619</td>\n",
              "      <td>114.0</td>\n",
              "      <td>288.0</td>\n",
              "      <td>0.395833</td>\n",
              "      <td>0.0</td>\n",
              "    </tr>\n",
              "    <tr>\n",
              "      <th>472</th>\n",
              "      <td>823</td>\n",
              "      <td>48.0</td>\n",
              "      <td>109.0</td>\n",
              "      <td>0.440367</td>\n",
              "      <td>0.0</td>\n",
              "    </tr>\n",
              "    <tr>\n",
              "      <th>563</th>\n",
              "      <td>960</td>\n",
              "      <td>87.0</td>\n",
              "      <td>114.0</td>\n",
              "      <td>0.763158</td>\n",
              "      <td>0.0</td>\n",
              "    </tr>\n",
              "    <tr>\n",
              "      <th>561</th>\n",
              "      <td>956</td>\n",
              "      <td>63.0</td>\n",
              "      <td>173.0</td>\n",
              "      <td>0.364162</td>\n",
              "      <td>0.0</td>\n",
              "    </tr>\n",
              "    <tr>\n",
              "      <th>213</th>\n",
              "      <td>408</td>\n",
              "      <td>20.0</td>\n",
              "      <td>24.0</td>\n",
              "      <td>0.833333</td>\n",
              "      <td>0.0</td>\n",
              "    </tr>\n",
              "  </tbody>\n",
              "</table>\n",
              "<p>806 rows × 5 columns</p>\n",
              "</div>"
            ],
            "text/plain": [
              "     user_id  sum_problem  sum_submissions  sum_problem / sum_submissions    CK\n",
              "10        27          5.0             13.0                       0.384615  10.0\n",
              "174      343        191.0            345.0                       0.553623  10.0\n",
              "9         24         77.0            164.0                       0.469512   9.5\n",
              "765     1316         47.0            122.0                       0.385246   9.5\n",
              "64       126        110.0            383.0                       0.287206   9.5\n",
              "..       ...          ...              ...                            ...   ...\n",
              "969     1619        114.0            288.0                       0.395833   0.0\n",
              "472      823         48.0            109.0                       0.440367   0.0\n",
              "563      960         87.0            114.0                       0.763158   0.0\n",
              "561      956         63.0            173.0                       0.364162   0.0\n",
              "213      408         20.0             24.0                       0.833333   0.0\n",
              "\n",
              "[806 rows x 5 columns]"
            ]
          },
          "metadata": {
            "tags": []
          },
          "execution_count": 10
        }
      ]
    },
    {
      "cell_type": "code",
      "metadata": {
        "colab": {
          "base_uri": "https://localhost:8080/",
          "height": 297
        },
        "id": "y6rx8-0tLvwq",
        "outputId": "59bedccf-e61d-4ff3-c749-4b822d837872"
      },
      "source": [
        "sns.scatterplot(x=\"sum_problem / sum_submissions\", y=\"CK\", data = data_merge_2)"
      ],
      "execution_count": null,
      "outputs": [
        {
          "output_type": "execute_result",
          "data": {
            "text/plain": [
              "<matplotlib.axes._subplots.AxesSubplot at 0x7f4abb323c90>"
            ]
          },
          "metadata": {
            "tags": []
          },
          "execution_count": 11
        },
        {
          "output_type": "display_data",
          "data": {
            "image/png": "[encoded data removed]",
            "text/plain": [
              "<Figure size 432x288 with 1 Axes>"
            ]
          },
          "metadata": {
            "tags": [],
            "needs_background": "light"
          }
        }
      ]
    },
    {
      "cell_type": "markdown",
      "metadata": {
        "id": "c-gfdTfwL8_w"
      },
      "source": [
        "## 3.Số lần submit đúng (pre_score=10000) / tổng số submissions"
      ]
    },
    {
      "cell_type": "code",
      "metadata": {
        "colab": {
          "base_uri": "https://localhost:8080/",
          "height": 455
        },
        "id": "PLudquQKMB9A",
        "outputId": "3a7a0b91-a845-4b9f-e883-52b71ecc7b72"
      },
      "source": [
        "Feature_3 = pd.DataFrame(wecode['user_id'])\n",
        "Feature_3['sum_done_submissions'] = pd.DataFrame(map(int, (wecode['pre_score'] == 10000)))\n",
        "Feature_3 = Feature_3.groupby(['user_id']).sum()\n",
        "Feature_3 = pd.merge(Feature_3,sum_submissions,on='user_id',how='outer')\n",
        "Feature_3 = Feature_3.rename(columns = {\"id\":\"sum_submissions\"})\n",
        "Feature_3['sum_done_submissions / sum_submissions'] = Feature_3['sum_done_submissions'] / Feature_3['sum_submissions']\n",
        "Feature_3"
      ],
      "execution_count": null,
      "outputs": [
        {
          "output_type": "execute_result",
          "data": {
            "text/html": [
              "<div>\n",
              "<style scoped>\n",
              "    .dataframe tbody tr th:only-of-type {\n",
              "        vertical-align: middle;\n",
              "    }\n",
              "\n",
              "    .dataframe tbody tr th {\n",
              "        vertical-align: top;\n",
              "    }\n",
              "\n",
              "    .dataframe thead th {\n",
              "        text-align: right;\n",
              "    }\n",
              "</style>\n",
              "<table border=\"1\" class=\"dataframe\">\n",
              "  <thead>\n",
              "    <tr style=\"text-align: right;\">\n",
              "      <th></th>\n",
              "      <th>sum_done_submissions</th>\n",
              "      <th>sum_submissions</th>\n",
              "      <th>sum_done_submissions / sum_submissions</th>\n",
              "    </tr>\n",
              "    <tr>\n",
              "      <th>user_id</th>\n",
              "      <th></th>\n",
              "      <th></th>\n",
              "      <th></th>\n",
              "    </tr>\n",
              "  </thead>\n",
              "  <tbody>\n",
              "    <tr>\n",
              "      <th>1</th>\n",
              "      <td>1</td>\n",
              "      <td>2</td>\n",
              "      <td>0.500000</td>\n",
              "    </tr>\n",
              "    <tr>\n",
              "      <th>4</th>\n",
              "      <td>44</td>\n",
              "      <td>54</td>\n",
              "      <td>0.814815</td>\n",
              "    </tr>\n",
              "    <tr>\n",
              "      <th>5</th>\n",
              "      <td>3</td>\n",
              "      <td>6</td>\n",
              "      <td>0.500000</td>\n",
              "    </tr>\n",
              "    <tr>\n",
              "      <th>6</th>\n",
              "      <td>89</td>\n",
              "      <td>130</td>\n",
              "      <td>0.684615</td>\n",
              "    </tr>\n",
              "    <tr>\n",
              "      <th>7</th>\n",
              "      <td>0</td>\n",
              "      <td>5</td>\n",
              "      <td>0.000000</td>\n",
              "    </tr>\n",
              "    <tr>\n",
              "      <th>...</th>\n",
              "      <td>...</td>\n",
              "      <td>...</td>\n",
              "      <td>...</td>\n",
              "    </tr>\n",
              "    <tr>\n",
              "      <th>1860</th>\n",
              "      <td>29</td>\n",
              "      <td>76</td>\n",
              "      <td>0.381579</td>\n",
              "    </tr>\n",
              "    <tr>\n",
              "      <th>1862</th>\n",
              "      <td>4</td>\n",
              "      <td>12</td>\n",
              "      <td>0.333333</td>\n",
              "    </tr>\n",
              "    <tr>\n",
              "      <th>1864</th>\n",
              "      <td>30</td>\n",
              "      <td>187</td>\n",
              "      <td>0.160428</td>\n",
              "    </tr>\n",
              "    <tr>\n",
              "      <th>1865</th>\n",
              "      <td>10</td>\n",
              "      <td>99</td>\n",
              "      <td>0.101010</td>\n",
              "    </tr>\n",
              "    <tr>\n",
              "      <th>1868</th>\n",
              "      <td>38</td>\n",
              "      <td>47</td>\n",
              "      <td>0.808511</td>\n",
              "    </tr>\n",
              "  </tbody>\n",
              "</table>\n",
              "<p>1159 rows × 3 columns</p>\n",
              "</div>"
            ],
            "text/plain": [
              "         sum_done_submissions  ...  sum_done_submissions / sum_submissions\n",
              "user_id                        ...                                        \n",
              "1                           1  ...                                0.500000\n",
              "4                          44  ...                                0.814815\n",
              "5                           3  ...                                0.500000\n",
              "6                          89  ...                                0.684615\n",
              "7                           0  ...                                0.000000\n",
              "...                       ...  ...                                     ...\n",
              "1860                       29  ...                                0.381579\n",
              "1862                        4  ...                                0.333333\n",
              "1864                       30  ...                                0.160428\n",
              "1865                       10  ...                                0.101010\n",
              "1868                       38  ...                                0.808511\n",
              "\n",
              "[1159 rows x 3 columns]"
            ]
          },
          "metadata": {
            "tags": []
          },
          "execution_count": 12
        }
      ]
    },
    {
      "cell_type": "code",
      "metadata": {
        "colab": {
          "base_uri": "https://localhost:8080/",
          "height": 423
        },
        "id": "ruuQJvlZNaBF",
        "outputId": "e1d808cc-32fd-4c4e-eb34-956779f98ba4"
      },
      "source": [
        "data_merge_3 = pd.merge(Feature_3,score,on='user_id',how='outer')\n",
        "data_merge_3 = data_merge_3.dropna()\n",
        "data_merge_3 = data_merge_3.sort_values(by= ['CK'], ascending=False)\n",
        "data_merge_3"
      ],
      "execution_count": null,
      "outputs": [
        {
          "output_type": "execute_result",
          "data": {
            "text/html": [
              "<div>\n",
              "<style scoped>\n",
              "    .dataframe tbody tr th:only-of-type {\n",
              "        vertical-align: middle;\n",
              "    }\n",
              "\n",
              "    .dataframe tbody tr th {\n",
              "        vertical-align: top;\n",
              "    }\n",
              "\n",
              "    .dataframe thead th {\n",
              "        text-align: right;\n",
              "    }\n",
              "</style>\n",
              "<table border=\"1\" class=\"dataframe\">\n",
              "  <thead>\n",
              "    <tr style=\"text-align: right;\">\n",
              "      <th></th>\n",
              "      <th>user_id</th>\n",
              "      <th>sum_done_submissions</th>\n",
              "      <th>sum_submissions</th>\n",
              "      <th>sum_done_submissions / sum_submissions</th>\n",
              "      <th>CK</th>\n",
              "    </tr>\n",
              "  </thead>\n",
              "  <tbody>\n",
              "    <tr>\n",
              "      <th>10</th>\n",
              "      <td>27</td>\n",
              "      <td>4.0</td>\n",
              "      <td>13.0</td>\n",
              "      <td>0.307692</td>\n",
              "      <td>10.0</td>\n",
              "    </tr>\n",
              "    <tr>\n",
              "      <th>174</th>\n",
              "      <td>343</td>\n",
              "      <td>168.0</td>\n",
              "      <td>345.0</td>\n",
              "      <td>0.486957</td>\n",
              "      <td>10.0</td>\n",
              "    </tr>\n",
              "    <tr>\n",
              "      <th>9</th>\n",
              "      <td>24</td>\n",
              "      <td>80.0</td>\n",
              "      <td>164.0</td>\n",
              "      <td>0.487805</td>\n",
              "      <td>9.5</td>\n",
              "    </tr>\n",
              "    <tr>\n",
              "      <th>765</th>\n",
              "      <td>1316</td>\n",
              "      <td>46.0</td>\n",
              "      <td>122.0</td>\n",
              "      <td>0.377049</td>\n",
              "      <td>9.5</td>\n",
              "    </tr>\n",
              "    <tr>\n",
              "      <th>64</th>\n",
              "      <td>126</td>\n",
              "      <td>129.0</td>\n",
              "      <td>383.0</td>\n",
              "      <td>0.336815</td>\n",
              "      <td>9.5</td>\n",
              "    </tr>\n",
              "    <tr>\n",
              "      <th>...</th>\n",
              "      <td>...</td>\n",
              "      <td>...</td>\n",
              "      <td>...</td>\n",
              "      <td>...</td>\n",
              "      <td>...</td>\n",
              "    </tr>\n",
              "    <tr>\n",
              "      <th>969</th>\n",
              "      <td>1619</td>\n",
              "      <td>109.0</td>\n",
              "      <td>288.0</td>\n",
              "      <td>0.378472</td>\n",
              "      <td>0.0</td>\n",
              "    </tr>\n",
              "    <tr>\n",
              "      <th>472</th>\n",
              "      <td>823</td>\n",
              "      <td>46.0</td>\n",
              "      <td>109.0</td>\n",
              "      <td>0.422018</td>\n",
              "      <td>0.0</td>\n",
              "    </tr>\n",
              "    <tr>\n",
              "      <th>563</th>\n",
              "      <td>960</td>\n",
              "      <td>85.0</td>\n",
              "      <td>114.0</td>\n",
              "      <td>0.745614</td>\n",
              "      <td>0.0</td>\n",
              "    </tr>\n",
              "    <tr>\n",
              "      <th>561</th>\n",
              "      <td>956</td>\n",
              "      <td>64.0</td>\n",
              "      <td>173.0</td>\n",
              "      <td>0.369942</td>\n",
              "      <td>0.0</td>\n",
              "    </tr>\n",
              "    <tr>\n",
              "      <th>213</th>\n",
              "      <td>408</td>\n",
              "      <td>21.0</td>\n",
              "      <td>24.0</td>\n",
              "      <td>0.875000</td>\n",
              "      <td>0.0</td>\n",
              "    </tr>\n",
              "  </tbody>\n",
              "</table>\n",
              "<p>806 rows × 5 columns</p>\n",
              "</div>"
            ],
            "text/plain": [
              "     user_id  ...    CK\n",
              "10        27  ...  10.0\n",
              "174      343  ...  10.0\n",
              "9         24  ...   9.5\n",
              "765     1316  ...   9.5\n",
              "64       126  ...   9.5\n",
              "..       ...  ...   ...\n",
              "969     1619  ...   0.0\n",
              "472      823  ...   0.0\n",
              "563      960  ...   0.0\n",
              "561      956  ...   0.0\n",
              "213      408  ...   0.0\n",
              "\n",
              "[806 rows x 5 columns]"
            ]
          },
          "metadata": {
            "tags": []
          },
          "execution_count": 13
        }
      ]
    },
    {
      "cell_type": "code",
      "metadata": {
        "colab": {
          "base_uri": "https://localhost:8080/",
          "height": 297
        },
        "id": "zb1ASZT6Nid3",
        "outputId": "935200ed-8379-456a-8521-ab446297b9e1"
      },
      "source": [
        "sns.scatterplot(x=\"sum_done_submissions / sum_submissions\", y=\"CK\", data = data_merge_3)"
      ],
      "execution_count": null,
      "outputs": [
        {
          "output_type": "execute_result",
          "data": {
            "text/plain": [
              "<matplotlib.axes._subplots.AxesSubplot at 0x7f4ab96dd4d0>"
            ]
          },
          "metadata": {
            "tags": []
          },
          "execution_count": 14
        },
        {
          "output_type": "display_data",
          "data": {
            "image/png": "[encoded data removed]",
            "text/plain": [
              "<Figure size 432x288 with 1 Axes>"
            ]
          },
          "metadata": {
            "tags": [],
            "needs_background": "light"
          }
        }
      ]
    },
    {
      "cell_type": "markdown",
      "metadata": {
        "id": "4et9XWZcNsZU"
      },
      "source": [
        "## 4.Tổng pre_score của các submssion có is_final = 1"
      ]
    },
    {
      "cell_type": "code",
      "metadata": {
        "colab": {
          "base_uri": "https://localhost:8080/",
          "height": 455
        },
        "id": "MNBfMn1DOZ9s",
        "outputId": "e892317f-4c1e-4497-a06a-b8f82b0a0178"
      },
      "source": [
        "Feature_4 = pd.DataFrame(wecode['user_id'])\n",
        "Feature_4['sum_pre_score'] = wecode.loc[wecode['is_final'] == 1, ['pre_score']]\n",
        "Feature_4 = Feature_4.groupby(['user_id']).sum()\n",
        "Feature_4"
      ],
      "execution_count": null,
      "outputs": [
        {
          "output_type": "execute_result",
          "data": {
            "text/html": [
              "<div>\n",
              "<style scoped>\n",
              "    .dataframe tbody tr th:only-of-type {\n",
              "        vertical-align: middle;\n",
              "    }\n",
              "\n",
              "    .dataframe tbody tr th {\n",
              "        vertical-align: top;\n",
              "    }\n",
              "\n",
              "    .dataframe thead th {\n",
              "        text-align: right;\n",
              "    }\n",
              "</style>\n",
              "<table border=\"1\" class=\"dataframe\">\n",
              "  <thead>\n",
              "    <tr style=\"text-align: right;\">\n",
              "      <th></th>\n",
              "      <th>sum_pre_score</th>\n",
              "    </tr>\n",
              "    <tr>\n",
              "      <th>user_id</th>\n",
              "      <th></th>\n",
              "    </tr>\n",
              "  </thead>\n",
              "  <tbody>\n",
              "    <tr>\n",
              "      <th>1</th>\n",
              "      <td>10000.0</td>\n",
              "    </tr>\n",
              "    <tr>\n",
              "      <th>4</th>\n",
              "      <td>370000.0</td>\n",
              "    </tr>\n",
              "    <tr>\n",
              "      <th>5</th>\n",
              "      <td>30000.0</td>\n",
              "    </tr>\n",
              "    <tr>\n",
              "      <th>6</th>\n",
              "      <td>850000.0</td>\n",
              "    </tr>\n",
              "    <tr>\n",
              "      <th>7</th>\n",
              "      <td>9209.0</td>\n",
              "    </tr>\n",
              "    <tr>\n",
              "      <th>...</th>\n",
              "      <td>...</td>\n",
              "    </tr>\n",
              "    <tr>\n",
              "      <th>1860</th>\n",
              "      <td>329665.0</td>\n",
              "    </tr>\n",
              "    <tr>\n",
              "      <th>1862</th>\n",
              "      <td>40000.0</td>\n",
              "    </tr>\n",
              "    <tr>\n",
              "      <th>1864</th>\n",
              "      <td>439741.0</td>\n",
              "    </tr>\n",
              "    <tr>\n",
              "      <th>1865</th>\n",
              "      <td>116428.0</td>\n",
              "    </tr>\n",
              "    <tr>\n",
              "      <th>1868</th>\n",
              "      <td>270000.0</td>\n",
              "    </tr>\n",
              "  </tbody>\n",
              "</table>\n",
              "<p>1159 rows × 1 columns</p>\n",
              "</div>"
            ],
            "text/plain": [
              "         sum_pre_score\n",
              "user_id               \n",
              "1              10000.0\n",
              "4             370000.0\n",
              "5              30000.0\n",
              "6             850000.0\n",
              "7               9209.0\n",
              "...                ...\n",
              "1860          329665.0\n",
              "1862           40000.0\n",
              "1864          439741.0\n",
              "1865          116428.0\n",
              "1868          270000.0\n",
              "\n",
              "[1159 rows x 1 columns]"
            ]
          },
          "metadata": {
            "tags": []
          },
          "execution_count": 15
        }
      ]
    },
    {
      "cell_type": "code",
      "metadata": {
        "colab": {
          "base_uri": "https://localhost:8080/",
          "height": 423
        },
        "id": "55BTiCyVO7Td",
        "outputId": "70f5840f-d8e7-4a83-cca4-31faac7eae33"
      },
      "source": [
        "data_merge_4 = pd.merge(Feature_4,score,on='user_id',how='outer')\n",
        "data_merge_4 = data_merge_4.dropna()\n",
        "data_merge_4 = data_merge_4.sort_values(by= ['CK'], ascending=False)\n",
        "data_merge_4"
      ],
      "execution_count": null,
      "outputs": [
        {
          "output_type": "execute_result",
          "data": {
            "text/html": [
              "<div>\n",
              "<style scoped>\n",
              "    .dataframe tbody tr th:only-of-type {\n",
              "        vertical-align: middle;\n",
              "    }\n",
              "\n",
              "    .dataframe tbody tr th {\n",
              "        vertical-align: top;\n",
              "    }\n",
              "\n",
              "    .dataframe thead th {\n",
              "        text-align: right;\n",
              "    }\n",
              "</style>\n",
              "<table border=\"1\" class=\"dataframe\">\n",
              "  <thead>\n",
              "    <tr style=\"text-align: right;\">\n",
              "      <th></th>\n",
              "      <th>user_id</th>\n",
              "      <th>sum_pre_score</th>\n",
              "      <th>CK</th>\n",
              "    </tr>\n",
              "  </thead>\n",
              "  <tbody>\n",
              "    <tr>\n",
              "      <th>10</th>\n",
              "      <td>27</td>\n",
              "      <td>39000.0</td>\n",
              "      <td>10.0</td>\n",
              "    </tr>\n",
              "    <tr>\n",
              "      <th>174</th>\n",
              "      <td>343</td>\n",
              "      <td>1821760.0</td>\n",
              "      <td>10.0</td>\n",
              "    </tr>\n",
              "    <tr>\n",
              "      <th>9</th>\n",
              "      <td>24</td>\n",
              "      <td>750299.0</td>\n",
              "      <td>9.5</td>\n",
              "    </tr>\n",
              "    <tr>\n",
              "      <th>765</th>\n",
              "      <td>1316</td>\n",
              "      <td>460000.0</td>\n",
              "      <td>9.5</td>\n",
              "    </tr>\n",
              "    <tr>\n",
              "      <th>64</th>\n",
              "      <td>126</td>\n",
              "      <td>1085882.0</td>\n",
              "      <td>9.5</td>\n",
              "    </tr>\n",
              "    <tr>\n",
              "      <th>...</th>\n",
              "      <td>...</td>\n",
              "      <td>...</td>\n",
              "      <td>...</td>\n",
              "    </tr>\n",
              "    <tr>\n",
              "      <th>969</th>\n",
              "      <td>1619</td>\n",
              "      <td>1080200.0</td>\n",
              "      <td>0.0</td>\n",
              "    </tr>\n",
              "    <tr>\n",
              "      <th>472</th>\n",
              "      <td>823</td>\n",
              "      <td>460000.0</td>\n",
              "      <td>0.0</td>\n",
              "    </tr>\n",
              "    <tr>\n",
              "      <th>563</th>\n",
              "      <td>960</td>\n",
              "      <td>832428.0</td>\n",
              "      <td>0.0</td>\n",
              "    </tr>\n",
              "    <tr>\n",
              "      <th>561</th>\n",
              "      <td>956</td>\n",
              "      <td>600776.0</td>\n",
              "      <td>0.0</td>\n",
              "    </tr>\n",
              "    <tr>\n",
              "      <th>213</th>\n",
              "      <td>408</td>\n",
              "      <td>179000.0</td>\n",
              "      <td>0.0</td>\n",
              "    </tr>\n",
              "  </tbody>\n",
              "</table>\n",
              "<p>806 rows × 3 columns</p>\n",
              "</div>"
            ],
            "text/plain": [
              "     user_id  sum_pre_score    CK\n",
              "10        27        39000.0  10.0\n",
              "174      343      1821760.0  10.0\n",
              "9         24       750299.0   9.5\n",
              "765     1316       460000.0   9.5\n",
              "64       126      1085882.0   9.5\n",
              "..       ...            ...   ...\n",
              "969     1619      1080200.0   0.0\n",
              "472      823       460000.0   0.0\n",
              "563      960       832428.0   0.0\n",
              "561      956       600776.0   0.0\n",
              "213      408       179000.0   0.0\n",
              "\n",
              "[806 rows x 3 columns]"
            ]
          },
          "metadata": {
            "tags": []
          },
          "execution_count": 16
        }
      ]
    },
    {
      "cell_type": "code",
      "metadata": {
        "colab": {
          "base_uri": "https://localhost:8080/",
          "height": 297
        },
        "id": "0AZm8WmePF3U",
        "outputId": "cd19bd1f-5e78-4790-c561-b10ef60a84e3"
      },
      "source": [
        "sns.scatterplot(x=\"sum_pre_score\", y=\"CK\", data = data_merge_4)"
      ],
      "execution_count": null,
      "outputs": [
        {
          "output_type": "execute_result",
          "data": {
            "text/plain": [
              "<matplotlib.axes._subplots.AxesSubplot at 0x7f4ab9b31bd0>"
            ]
          },
          "metadata": {
            "tags": []
          },
          "execution_count": 17
        },
        {
          "output_type": "display_data",
          "data": {
            "image/png": "[encoded data removed]",
            "text/plain": [
              "<Figure size 432x288 with 1 Axes>"
            ]
          },
          "metadata": {
            "tags": [],
            "needs_background": "light"
          }
        }
      ]
    },
    {
      "cell_type": "markdown",
      "metadata": {
        "id": "oQL78-ter5LN"
      },
      "source": [
        "## 5.Trung bình cộng của tỷ lệ: problem đã submit/số lượng problem của mỗi assignments"
      ]
    },
    {
      "cell_type": "code",
      "metadata": {
        "colab": {
          "base_uri": "https://localhost:8080/",
          "height": 423
        },
        "id": "RjLYHG0swjM4",
        "outputId": "eb37ca3b-2310-4979-f7b5-8519450fd199"
      },
      "source": [
        "count_problem = wecode.groupby('assignment_id', as_index=False).problem_id.nunique()\n",
        "count_problem = count_problem.rename(columns = {\"problem_id\":\"count_problem\"})\n",
        "count_problem"
      ],
      "execution_count": null,
      "outputs": [
        {
          "output_type": "execute_result",
          "data": {
            "text/html": [
              "<div>\n",
              "<style scoped>\n",
              "    .dataframe tbody tr th:only-of-type {\n",
              "        vertical-align: middle;\n",
              "    }\n",
              "\n",
              "    .dataframe tbody tr th {\n",
              "        vertical-align: top;\n",
              "    }\n",
              "\n",
              "    .dataframe thead th {\n",
              "        text-align: right;\n",
              "    }\n",
              "</style>\n",
              "<table border=\"1\" class=\"dataframe\">\n",
              "  <thead>\n",
              "    <tr style=\"text-align: right;\">\n",
              "      <th></th>\n",
              "      <th>assignment_id</th>\n",
              "      <th>count_problem</th>\n",
              "    </tr>\n",
              "  </thead>\n",
              "  <tbody>\n",
              "    <tr>\n",
              "      <th>0</th>\n",
              "      <td>0</td>\n",
              "      <td>352</td>\n",
              "    </tr>\n",
              "    <tr>\n",
              "      <th>1</th>\n",
              "      <td>5</td>\n",
              "      <td>4</td>\n",
              "    </tr>\n",
              "    <tr>\n",
              "      <th>2</th>\n",
              "      <td>7</td>\n",
              "      <td>10</td>\n",
              "    </tr>\n",
              "    <tr>\n",
              "      <th>3</th>\n",
              "      <td>8</td>\n",
              "      <td>8</td>\n",
              "    </tr>\n",
              "    <tr>\n",
              "      <th>4</th>\n",
              "      <td>10</td>\n",
              "      <td>7</td>\n",
              "    </tr>\n",
              "    <tr>\n",
              "      <th>...</th>\n",
              "      <td>...</td>\n",
              "      <td>...</td>\n",
              "    </tr>\n",
              "    <tr>\n",
              "      <th>285</th>\n",
              "      <td>376</td>\n",
              "      <td>10</td>\n",
              "    </tr>\n",
              "    <tr>\n",
              "      <th>286</th>\n",
              "      <td>377</td>\n",
              "      <td>7</td>\n",
              "    </tr>\n",
              "    <tr>\n",
              "      <th>287</th>\n",
              "      <td>381</td>\n",
              "      <td>4</td>\n",
              "    </tr>\n",
              "    <tr>\n",
              "      <th>288</th>\n",
              "      <td>383</td>\n",
              "      <td>47</td>\n",
              "    </tr>\n",
              "    <tr>\n",
              "      <th>289</th>\n",
              "      <td>384</td>\n",
              "      <td>4</td>\n",
              "    </tr>\n",
              "  </tbody>\n",
              "</table>\n",
              "<p>290 rows × 2 columns</p>\n",
              "</div>"
            ],
            "text/plain": [
              "     assignment_id  count_problem\n",
              "0                0            352\n",
              "1                5              4\n",
              "2                7             10\n",
              "3                8              8\n",
              "4               10              7\n",
              "..             ...            ...\n",
              "285            376             10\n",
              "286            377              7\n",
              "287            381              4\n",
              "288            383             47\n",
              "289            384              4\n",
              "\n",
              "[290 rows x 2 columns]"
            ]
          },
          "metadata": {
            "tags": []
          },
          "execution_count": 18
        }
      ]
    },
    {
      "cell_type": "code",
      "metadata": {
        "colab": {
          "base_uri": "https://localhost:8080/",
          "height": 423
        },
        "id": "quv6u0zrr-VN",
        "outputId": "1f97c8b2-45c4-49ef-cb4c-134ad88706b2"
      },
      "source": [
        "count_problem_submit = pd.DataFrame(wecode[['user_id', 'assignment_id','problem_id']])\n",
        "count_problem_submit = count_problem_submit.groupby(['user_id', 'assignment_id'], as_index=False).problem_id.nunique()\n",
        "count_problem_submit = count_problem_submit.rename(columns = {\"problem_id\":\"count_problem_submit\"})\n",
        "count_problem_submit\n"
      ],
      "execution_count": null,
      "outputs": [
        {
          "output_type": "execute_result",
          "data": {
            "text/html": [
              "<div>\n",
              "<style scoped>\n",
              "    .dataframe tbody tr th:only-of-type {\n",
              "        vertical-align: middle;\n",
              "    }\n",
              "\n",
              "    .dataframe tbody tr th {\n",
              "        vertical-align: top;\n",
              "    }\n",
              "\n",
              "    .dataframe thead th {\n",
              "        text-align: right;\n",
              "    }\n",
              "</style>\n",
              "<table border=\"1\" class=\"dataframe\">\n",
              "  <thead>\n",
              "    <tr style=\"text-align: right;\">\n",
              "      <th></th>\n",
              "      <th>user_id</th>\n",
              "      <th>assignment_id</th>\n",
              "      <th>count_problem_submit</th>\n",
              "    </tr>\n",
              "  </thead>\n",
              "  <tbody>\n",
              "    <tr>\n",
              "      <th>0</th>\n",
              "      <td>1</td>\n",
              "      <td>0</td>\n",
              "      <td>2</td>\n",
              "    </tr>\n",
              "    <tr>\n",
              "      <th>1</th>\n",
              "      <td>4</td>\n",
              "      <td>0</td>\n",
              "      <td>41</td>\n",
              "    </tr>\n",
              "    <tr>\n",
              "      <th>2</th>\n",
              "      <td>5</td>\n",
              "      <td>64</td>\n",
              "      <td>1</td>\n",
              "    </tr>\n",
              "    <tr>\n",
              "      <th>3</th>\n",
              "      <td>5</td>\n",
              "      <td>91</td>\n",
              "      <td>2</td>\n",
              "    </tr>\n",
              "    <tr>\n",
              "      <th>4</th>\n",
              "      <td>5</td>\n",
              "      <td>117</td>\n",
              "      <td>1</td>\n",
              "    </tr>\n",
              "    <tr>\n",
              "      <th>...</th>\n",
              "      <td>...</td>\n",
              "      <td>...</td>\n",
              "      <td>...</td>\n",
              "    </tr>\n",
              "    <tr>\n",
              "      <th>12360</th>\n",
              "      <td>1865</td>\n",
              "      <td>296</td>\n",
              "      <td>4</td>\n",
              "    </tr>\n",
              "    <tr>\n",
              "      <th>12361</th>\n",
              "      <td>1868</td>\n",
              "      <td>0</td>\n",
              "      <td>13</td>\n",
              "    </tr>\n",
              "    <tr>\n",
              "      <th>12362</th>\n",
              "      <td>1868</td>\n",
              "      <td>271</td>\n",
              "      <td>5</td>\n",
              "    </tr>\n",
              "    <tr>\n",
              "      <th>12363</th>\n",
              "      <td>1868</td>\n",
              "      <td>272</td>\n",
              "      <td>5</td>\n",
              "    </tr>\n",
              "    <tr>\n",
              "      <th>12364</th>\n",
              "      <td>1868</td>\n",
              "      <td>273</td>\n",
              "      <td>5</td>\n",
              "    </tr>\n",
              "  </tbody>\n",
              "</table>\n",
              "<p>12365 rows × 3 columns</p>\n",
              "</div>"
            ],
            "text/plain": [
              "       user_id  assignment_id  count_problem_submit\n",
              "0            1              0                     2\n",
              "1            4              0                    41\n",
              "2            5             64                     1\n",
              "3            5             91                     2\n",
              "4            5            117                     1\n",
              "...        ...            ...                   ...\n",
              "12360     1865            296                     4\n",
              "12361     1868              0                    13\n",
              "12362     1868            271                     5\n",
              "12363     1868            272                     5\n",
              "12364     1868            273                     5\n",
              "\n",
              "[12365 rows x 3 columns]"
            ]
          },
          "metadata": {
            "tags": []
          },
          "execution_count": 19
        }
      ]
    },
    {
      "cell_type": "code",
      "metadata": {
        "colab": {
          "base_uri": "https://localhost:8080/",
          "height": 455
        },
        "id": "5zlj8buCygai",
        "outputId": "07827446-69a0-489b-d61c-8b36ff7ad10e"
      },
      "source": [
        "Feature_5 = pd.merge(count_problem_submit,count_problem,on='assignment_id',how='left')\n",
        "Feature_5['count_problem_submit / count_problem'] = Feature_5['count_problem_submit'] / Feature_5['count_problem']\n",
        "sum_probability = Feature_5[['user_id','count_problem_submit / count_problem']].groupby(['user_id'], as_index=True).sum()\n",
        "count_probability = Feature_5[['user_id','count_problem_submit / count_problem']].groupby(['user_id'], as_index=True).count()\n",
        "Feature_5 = Feature_5[['user_id']].groupby(['user_id'], as_index=True).count()\n",
        "Feature_5['average_of_count_problem_submit / count_problem'] = sum_probability['count_problem_submit / count_problem'] / count_probability['count_problem_submit / count_problem']\n",
        "Feature_5"
      ],
      "execution_count": null,
      "outputs": [
        {
          "output_type": "execute_result",
          "data": {
            "text/html": [
              "<div>\n",
              "<style scoped>\n",
              "    .dataframe tbody tr th:only-of-type {\n",
              "        vertical-align: middle;\n",
              "    }\n",
              "\n",
              "    .dataframe tbody tr th {\n",
              "        vertical-align: top;\n",
              "    }\n",
              "\n",
              "    .dataframe thead th {\n",
              "        text-align: right;\n",
              "    }\n",
              "</style>\n",
              "<table border=\"1\" class=\"dataframe\">\n",
              "  <thead>\n",
              "    <tr style=\"text-align: right;\">\n",
              "      <th></th>\n",
              "      <th>average_of_count_problem_submit / count_problem</th>\n",
              "    </tr>\n",
              "    <tr>\n",
              "      <th>user_id</th>\n",
              "      <th></th>\n",
              "    </tr>\n",
              "  </thead>\n",
              "  <tbody>\n",
              "    <tr>\n",
              "      <th>1</th>\n",
              "      <td>0.005682</td>\n",
              "    </tr>\n",
              "    <tr>\n",
              "      <th>4</th>\n",
              "      <td>0.116477</td>\n",
              "    </tr>\n",
              "    <tr>\n",
              "      <th>5</th>\n",
              "      <td>0.114394</td>\n",
              "    </tr>\n",
              "    <tr>\n",
              "      <th>6</th>\n",
              "      <td>0.306203</td>\n",
              "    </tr>\n",
              "    <tr>\n",
              "      <th>7</th>\n",
              "      <td>0.005682</td>\n",
              "    </tr>\n",
              "    <tr>\n",
              "      <th>...</th>\n",
              "      <td>...</td>\n",
              "    </tr>\n",
              "    <tr>\n",
              "      <th>1860</th>\n",
              "      <td>0.615000</td>\n",
              "    </tr>\n",
              "    <tr>\n",
              "      <th>1862</th>\n",
              "      <td>0.450000</td>\n",
              "    </tr>\n",
              "    <tr>\n",
              "      <th>1864</th>\n",
              "      <td>0.690000</td>\n",
              "    </tr>\n",
              "    <tr>\n",
              "      <th>1865</th>\n",
              "      <td>0.588889</td>\n",
              "    </tr>\n",
              "    <tr>\n",
              "      <th>1868</th>\n",
              "      <td>0.759233</td>\n",
              "    </tr>\n",
              "  </tbody>\n",
              "</table>\n",
              "<p>1159 rows × 1 columns</p>\n",
              "</div>"
            ],
            "text/plain": [
              "         average_of_count_problem_submit / count_problem\n",
              "user_id                                                 \n",
              "1                                               0.005682\n",
              "4                                               0.116477\n",
              "5                                               0.114394\n",
              "6                                               0.306203\n",
              "7                                               0.005682\n",
              "...                                                  ...\n",
              "1860                                            0.615000\n",
              "1862                                            0.450000\n",
              "1864                                            0.690000\n",
              "1865                                            0.588889\n",
              "1868                                            0.759233\n",
              "\n",
              "[1159 rows x 1 columns]"
            ]
          },
          "metadata": {
            "tags": []
          },
          "execution_count": 20
        }
      ]
    },
    {
      "cell_type": "code",
      "metadata": {
        "colab": {
          "base_uri": "https://localhost:8080/",
          "height": 423
        },
        "id": "hfDJp_lO6pRK",
        "outputId": "a67cca5d-aeb2-42d8-cdbb-1153a9aca32c"
      },
      "source": [
        "data_merge_5 = pd.merge(Feature_5,score,on='user_id',how='outer')\n",
        "data_merge_5 = data_merge_5.dropna()\n",
        "data_merge_5 = data_merge_5.sort_values(by= ['CK'], ascending=False)\n",
        "data_merge_5"
      ],
      "execution_count": null,
      "outputs": [
        {
          "output_type": "execute_result",
          "data": {
            "text/html": [
              "<div>\n",
              "<style scoped>\n",
              "    .dataframe tbody tr th:only-of-type {\n",
              "        vertical-align: middle;\n",
              "    }\n",
              "\n",
              "    .dataframe tbody tr th {\n",
              "        vertical-align: top;\n",
              "    }\n",
              "\n",
              "    .dataframe thead th {\n",
              "        text-align: right;\n",
              "    }\n",
              "</style>\n",
              "<table border=\"1\" class=\"dataframe\">\n",
              "  <thead>\n",
              "    <tr style=\"text-align: right;\">\n",
              "      <th></th>\n",
              "      <th>user_id</th>\n",
              "      <th>average_of_count_problem_submit / count_problem</th>\n",
              "      <th>CK</th>\n",
              "    </tr>\n",
              "  </thead>\n",
              "  <tbody>\n",
              "    <tr>\n",
              "      <th>10</th>\n",
              "      <td>27</td>\n",
              "      <td>0.223643</td>\n",
              "      <td>10.0</td>\n",
              "    </tr>\n",
              "    <tr>\n",
              "      <th>174</th>\n",
              "      <td>343</td>\n",
              "      <td>0.903905</td>\n",
              "      <td>10.0</td>\n",
              "    </tr>\n",
              "    <tr>\n",
              "      <th>9</th>\n",
              "      <td>24</td>\n",
              "      <td>0.663333</td>\n",
              "      <td>9.5</td>\n",
              "    </tr>\n",
              "    <tr>\n",
              "      <th>765</th>\n",
              "      <td>1316</td>\n",
              "      <td>1.000000</td>\n",
              "      <td>9.5</td>\n",
              "    </tr>\n",
              "    <tr>\n",
              "      <th>64</th>\n",
              "      <td>126</td>\n",
              "      <td>0.877598</td>\n",
              "      <td>9.5</td>\n",
              "    </tr>\n",
              "    <tr>\n",
              "      <th>...</th>\n",
              "      <td>...</td>\n",
              "      <td>...</td>\n",
              "      <td>...</td>\n",
              "    </tr>\n",
              "    <tr>\n",
              "      <th>969</th>\n",
              "      <td>1619</td>\n",
              "      <td>0.762672</td>\n",
              "      <td>0.0</td>\n",
              "    </tr>\n",
              "    <tr>\n",
              "      <th>472</th>\n",
              "      <td>823</td>\n",
              "      <td>0.940000</td>\n",
              "      <td>0.0</td>\n",
              "    </tr>\n",
              "    <tr>\n",
              "      <th>563</th>\n",
              "      <td>960</td>\n",
              "      <td>0.988889</td>\n",
              "      <td>0.0</td>\n",
              "    </tr>\n",
              "    <tr>\n",
              "      <th>561</th>\n",
              "      <td>956</td>\n",
              "      <td>0.852083</td>\n",
              "      <td>0.0</td>\n",
              "    </tr>\n",
              "    <tr>\n",
              "      <th>213</th>\n",
              "      <td>408</td>\n",
              "      <td>1.000000</td>\n",
              "      <td>0.0</td>\n",
              "    </tr>\n",
              "  </tbody>\n",
              "</table>\n",
              "<p>806 rows × 3 columns</p>\n",
              "</div>"
            ],
            "text/plain": [
              "     user_id  average_of_count_problem_submit / count_problem    CK\n",
              "10        27                                         0.223643  10.0\n",
              "174      343                                         0.903905  10.0\n",
              "9         24                                         0.663333   9.5\n",
              "765     1316                                         1.000000   9.5\n",
              "64       126                                         0.877598   9.5\n",
              "..       ...                                              ...   ...\n",
              "969     1619                                         0.762672   0.0\n",
              "472      823                                         0.940000   0.0\n",
              "563      960                                         0.988889   0.0\n",
              "561      956                                         0.852083   0.0\n",
              "213      408                                         1.000000   0.0\n",
              "\n",
              "[806 rows x 3 columns]"
            ]
          },
          "metadata": {
            "tags": []
          },
          "execution_count": 21
        }
      ]
    },
    {
      "cell_type": "code",
      "metadata": {
        "colab": {
          "base_uri": "https://localhost:8080/",
          "height": 297
        },
        "id": "DKLxGM6960ul",
        "outputId": "a6ed8fd5-678d-425f-aadb-6875a58dde33"
      },
      "source": [
        "sns.scatterplot(x=\"average_of_count_problem_submit / count_problem\", y=\"CK\", data = data_merge_5)"
      ],
      "execution_count": null,
      "outputs": [
        {
          "output_type": "execute_result",
          "data": {
            "text/plain": [
              "<matplotlib.axes._subplots.AxesSubplot at 0x7f4abbcce690>"
            ]
          },
          "metadata": {
            "tags": []
          },
          "execution_count": 22
        },
        {
          "output_type": "display_data",
          "data": {
            "image/png": "[encoded data removed]",
            "text/plain": [
              "<Figure size 432x288 with 1 Axes>"
            ]
          },
          "metadata": {
            "tags": [],
            "needs_background": "light"
          }
        }
      ]
    },
    {
      "cell_type": "markdown",
      "metadata": {
        "id": "ofaBBHMJ69so"
      },
      "source": [
        "## 6.Tổng của max pre_score của mỗi problem_id và tổng số submissions\n",
        "- Tổng max pre_score của mỗi problem_id như Feature_4. Do đó chỉ làm tổng số submissions"
      ]
    },
    {
      "cell_type": "code",
      "metadata": {
        "colab": {
          "base_uri": "https://localhost:8080/",
          "height": 423
        },
        "id": "lBo98kNF7ECf",
        "outputId": "50ce913d-1b40-48b3-9ac0-d3ed0378cf73"
      },
      "source": [
        "data_merge_6 = data_merge_3[['user_id','sum_submissions','CK']]\n",
        "data_merge_6 = data_merge_6.sort_values(by= ['CK'], ascending=False)\n",
        "data_merge_6"
      ],
      "execution_count": null,
      "outputs": [
        {
          "output_type": "execute_result",
          "data": {
            "text/html": [
              "<div>\n",
              "<style scoped>\n",
              "    .dataframe tbody tr th:only-of-type {\n",
              "        vertical-align: middle;\n",
              "    }\n",
              "\n",
              "    .dataframe tbody tr th {\n",
              "        vertical-align: top;\n",
              "    }\n",
              "\n",
              "    .dataframe thead th {\n",
              "        text-align: right;\n",
              "    }\n",
              "</style>\n",
              "<table border=\"1\" class=\"dataframe\">\n",
              "  <thead>\n",
              "    <tr style=\"text-align: right;\">\n",
              "      <th></th>\n",
              "      <th>user_id</th>\n",
              "      <th>sum_submissions</th>\n",
              "      <th>CK</th>\n",
              "    </tr>\n",
              "  </thead>\n",
              "  <tbody>\n",
              "    <tr>\n",
              "      <th>10</th>\n",
              "      <td>27</td>\n",
              "      <td>13.0</td>\n",
              "      <td>10.0</td>\n",
              "    </tr>\n",
              "    <tr>\n",
              "      <th>174</th>\n",
              "      <td>343</td>\n",
              "      <td>345.0</td>\n",
              "      <td>10.0</td>\n",
              "    </tr>\n",
              "    <tr>\n",
              "      <th>160</th>\n",
              "      <td>310</td>\n",
              "      <td>407.0</td>\n",
              "      <td>9.5</td>\n",
              "    </tr>\n",
              "    <tr>\n",
              "      <th>1040</th>\n",
              "      <td>1706</td>\n",
              "      <td>387.0</td>\n",
              "      <td>9.5</td>\n",
              "    </tr>\n",
              "    <tr>\n",
              "      <th>774</th>\n",
              "      <td>1328</td>\n",
              "      <td>671.0</td>\n",
              "      <td>9.5</td>\n",
              "    </tr>\n",
              "    <tr>\n",
              "      <th>...</th>\n",
              "      <td>...</td>\n",
              "      <td>...</td>\n",
              "      <td>...</td>\n",
              "    </tr>\n",
              "    <tr>\n",
              "      <th>874</th>\n",
              "      <td>1471</td>\n",
              "      <td>61.0</td>\n",
              "      <td>0.0</td>\n",
              "    </tr>\n",
              "    <tr>\n",
              "      <th>704</th>\n",
              "      <td>1215</td>\n",
              "      <td>109.0</td>\n",
              "      <td>0.0</td>\n",
              "    </tr>\n",
              "    <tr>\n",
              "      <th>405</th>\n",
              "      <td>714</td>\n",
              "      <td>35.0</td>\n",
              "      <td>0.0</td>\n",
              "    </tr>\n",
              "    <tr>\n",
              "      <th>82</th>\n",
              "      <td>166</td>\n",
              "      <td>32.0</td>\n",
              "      <td>0.0</td>\n",
              "    </tr>\n",
              "    <tr>\n",
              "      <th>213</th>\n",
              "      <td>408</td>\n",
              "      <td>24.0</td>\n",
              "      <td>0.0</td>\n",
              "    </tr>\n",
              "  </tbody>\n",
              "</table>\n",
              "<p>806 rows × 3 columns</p>\n",
              "</div>"
            ],
            "text/plain": [
              "      user_id  sum_submissions    CK\n",
              "10         27             13.0  10.0\n",
              "174       343            345.0  10.0\n",
              "160       310            407.0   9.5\n",
              "1040     1706            387.0   9.5\n",
              "774      1328            671.0   9.5\n",
              "...       ...              ...   ...\n",
              "874      1471             61.0   0.0\n",
              "704      1215            109.0   0.0\n",
              "405       714             35.0   0.0\n",
              "82        166             32.0   0.0\n",
              "213       408             24.0   0.0\n",
              "\n",
              "[806 rows x 3 columns]"
            ]
          },
          "metadata": {
            "tags": []
          },
          "execution_count": 23
        }
      ]
    },
    {
      "cell_type": "code",
      "metadata": {
        "colab": {
          "base_uri": "https://localhost:8080/",
          "height": 297
        },
        "id": "h6bwreXE8a6N",
        "outputId": "00e3187f-a1f6-4832-beeb-5688f31bb59f"
      },
      "source": [
        "sns.scatterplot(x=\"sum_submissions\", y=\"CK\", data = data_merge_6)"
      ],
      "execution_count": null,
      "outputs": [
        {
          "output_type": "execute_result",
          "data": {
            "text/plain": [
              "<matplotlib.axes._subplots.AxesSubplot at 0x7f4abbd38c90>"
            ]
          },
          "metadata": {
            "tags": []
          },
          "execution_count": 24
        },
        {
          "output_type": "display_data",
          "data": {
            "image/png": "[encoded data removed]",
            "text/plain": [
              "<Figure size 432x288 with 1 Axes>"
            ]
          },
          "metadata": {
            "tags": [],
            "needs_background": "light"
          }
        }
      ]
    },
    {
      "cell_type": "markdown",
      "metadata": {
        "id": "Jy7ZTv4TwZZb"
      },
      "source": [
        "## Training và tìm mean square error"
      ]
    },
    {
      "cell_type": "code",
      "metadata": {
        "id": "LzZutKH4xU93"
      },
      "source": [
        "from sklearn.linear_model import LinearRegression\n",
        "from sklearn.metrics import mean_squared_error"
      ],
      "execution_count": null,
      "outputs": []
    }
  ]
}